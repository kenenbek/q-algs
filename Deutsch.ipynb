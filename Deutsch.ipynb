{
 "cells": [
  {
   "cell_type": "markdown",
   "metadata": {},
   "source": [
    "# Introduction to Quantum Computing"
   ]
  },
  {
   "cell_type": "markdown",
   "metadata": {},
   "source": [
    "## Problem setting\n",
    "Suppose you have a function $f(x)$. This function can be one of four types:\n",
    "1. $f(x) = 0$\n",
    "2. $f(x) = 1$\n",
    "3. $f(x) = x$\n",
    "4. $f(x) = \\overline{x}$\n",
    "\n",
    "The first two functions are constant ones because they return the same bit whatever input is. While the last two functions outputs a bit depending on input bit. Now problem is stated to determine whether this function constant or not?\n",
    "\n",
    "How many steps do you need to solve this problem in a classical way? Well, you need exactly two steps to determine the type of function. Quantum computer is able to perform the same task in a single step. How it could be possible? Let's deal with it. "
   ]
  },
  {
   "cell_type": "markdown",
   "metadata": {},
   "source": [
    "## Quantum computing properties\n",
    "Quantum computer has two features which make it potentially more powerfull then classical computers. They are superposition and entaglement.  "
   ]
  },
  {
   "cell_type": "markdown",
   "metadata": {},
   "source": [
    "## Calculations"
   ]
  },
  {
   "cell_type": "markdown",
   "metadata": {},
   "source": [
    "$ |01 \\rangle \\xrightarrow{H} \\frac{1}{2} (|0\\rangle + |1\\rangle) (|0\\rangle - |1\\rangle) = $"
   ]
  },
  {
   "cell_type": "code",
   "execution_count": 14,
   "metadata": {},
   "outputs": [],
   "source": [
    "import quant\n",
    "import numpy as np\n",
    "from functools import reduce"
   ]
  },
  {
   "cell_type": "markdown",
   "metadata": {},
   "source": [
    "Given a function $ U_f |xy\\rangle= |x\\rangle | y \\oplus f(x) \\rangle $\n",
    "\n",
    "\n",
    "Goal is to determine the type of $f$."
   ]
  },
  {
   "cell_type": "markdown",
   "metadata": {},
   "source": [
    "# Deutsch algorithm\n",
    "![title](deutsch.png)"
   ]
  },
  {
   "cell_type": "markdown",
   "metadata": {},
   "source": [
    "## Step 1\n",
    "\n",
    "Given two inputs: \n",
    "- $x_0$ first input in a state $|0\\rangle$\n",
    "- $x_1$ second input in a state $|1\\rangle$\n"
   ]
  },
  {
   "cell_type": "code",
   "execution_count": 8,
   "metadata": {},
   "outputs": [],
   "source": [
    "x0 = np.array([[1],\n",
    "               [0]])\n",
    "x1 = np.array([[0], \n",
    "            [1]])"
   ]
  },
  {
   "cell_type": "markdown",
   "metadata": {},
   "source": [
    "The overall state is $|01\\rangle$."
   ]
  },
  {
   "cell_type": "code",
   "execution_count": 9,
   "metadata": {},
   "outputs": [],
   "source": [
    "x01 = np.kron(x0, x1)"
   ]
  },
  {
   "cell_type": "markdown",
   "metadata": {},
   "source": [
    "Create two-qubit Hadamard operator and apply it to $|01\\rangle$."
   ]
  },
  {
   "cell_type": "code",
   "execution_count": 10,
   "metadata": {},
   "outputs": [],
   "source": [
    "H2 = hadamard_n(2)\n",
    "x01_H2 = np.dot(H2, x01)"
   ]
  },
  {
   "cell_type": "code",
   "execution_count": 11,
   "metadata": {},
   "outputs": [
    {
     "data": {
      "text/plain": [
       "array([[ 0.5],\n",
       "       [-0.5],\n",
       "       [ 0.5],\n",
       "       [-0.5]])"
      ]
     },
     "execution_count": 11,
     "metadata": {},
     "output_type": "execute_result"
    }
   ],
   "source": [
    "x01_H2"
   ]
  },
  {
   "cell_type": "markdown",
   "metadata": {},
   "source": [
    "## Step 2\n",
    "Now we need to express function $f: \\{0, 1\\} \\rightarrow \\{0, 1\\}$ as a valid unitary matrix.\n",
    "\n",
    "Apply $U_f$ to qubits."
   ]
  },
  {
   "cell_type": "code",
   "execution_count": 7,
   "metadata": {},
   "outputs": [],
   "source": [
    "f1 = lambda x: 0\n",
    "f2 = lambda x: 1\n",
    "f3 = lambda x: x\n",
    "f4 = lambda x: 1 - x"
   ]
  },
  {
   "cell_type": "code",
   "execution_count": 16,
   "metadata": {},
   "outputs": [],
   "source": [
    "def create_operator_matrix_deutsch(qubit_number, func):\n",
    "    # qubit number only two\n",
    "    states = 2 ** qubit_number\n",
    "    res = np.empty([states, states])\n",
    "    \n",
    "    for i in range(states):\n",
    "        state = format(i, '0' + str(qubit_number) + 'b')\n",
    "        x0 = state[0]\n",
    "        x1 = str(int(state[1]) ^ func(int(state[0])))\n",
    "        column = quant.string_to_state(x0+x1)\n",
    "        res[:,i] = column[:, 0]\n",
    "    \n",
    "    return res"
   ]
  },
  {
   "cell_type": "code",
   "execution_count": 17,
   "metadata": {},
   "outputs": [],
   "source": [
    "U_f = create_operator_matrix_deutsch(2, f1)"
   ]
  },
  {
   "cell_type": "code",
   "execution_count": 18,
   "metadata": {},
   "outputs": [],
   "source": [
    "X_f = np.dot(U_f, x01_H2)"
   ]
  },
  {
   "cell_type": "markdown",
   "metadata": {},
   "source": [
    "## Step 3\n",
    "\n",
    "Apply Hadamard gate to the first qubit."
   ]
  },
  {
   "cell_type": "code",
   "execution_count": 19,
   "metadata": {},
   "outputs": [],
   "source": [
    "HI = np.kron(hadamard_n(1), np.identity(2))\n",
    "final_state = np.dot(HI, X_f)"
   ]
  },
  {
   "cell_type": "code",
   "execution_count": 20,
   "metadata": {},
   "outputs": [
    {
     "data": {
      "text/plain": [
       "array([[ 0.70710678],\n",
       "       [-0.70710678],\n",
       "       [ 0.        ],\n",
       "       [ 0.        ]])"
      ]
     },
     "execution_count": 20,
     "metadata": {},
     "output_type": "execute_result"
    }
   ],
   "source": [
    "final_state"
   ]
  },
  {
   "cell_type": "markdown",
   "metadata": {},
   "source": [
    "## Measuring the final state \n",
    "The probability of qubit $i$ being in a state 0 is given by \n",
    "$$Tr [| \\psi \\rangle \\langle \\psi | P^{i}_0 ]$$"
   ]
  },
  {
   "cell_type": "code",
   "execution_count": 22,
   "metadata": {},
   "outputs": [
    {
     "name": "stdout",
     "output_type": "stream",
     "text": [
      "0.9999999999999996\n"
     ]
    }
   ],
   "source": [
    "rho = np.dot(final_state, final_state.T)\n",
    "P0 = np.dot(quant.ZERO, quant.ZERO.T)\n",
    "P00 = np.kron(P0, np.eye(2))\n",
    "\n",
    "prob = np.trace(np.dot(rho, P00))\n",
    "print(prob)"
   ]
  },
  {
   "cell_type": "markdown",
   "metadata": {},
   "source": [
    "## Auxiliary"
   ]
  },
  {
   "cell_type": "code",
   "execution_count": null,
   "metadata": {},
   "outputs": [],
   "source": [
    "class QuantumState:\n",
    "    def __init__(self, alpha: 'complex', beta: 'complex'):\n",
    "        self.state = np.empty([alpha, beta])\n",
    "\n",
    "class ZeroState:\n",
    "    def __init__(self):\n",
    "        self.state = np.array([1+0j, 0+0j])\n",
    "\n",
    "class OneState:\n",
    "    def __init__(self):\n",
    "        self.state = np.array([0+0j, 0+1j])\n",
    "        \n",
    "\n",
    "class QuantumRegister:\n",
    "    def __init__(self, n: int):\n",
    "        #let's start with zero\n",
    "        self.n_qubits = n\n",
    "        self.n_states = 1 << n\n",
    "        self.vector = None\n",
    "        \n",
    "        self.qubits_states_sep = np.empty(n, 2)\n",
    "        self.register_state = None\n",
    "        \n",
    "        for i in range(len(self.qubits_states)):\n",
    "            self.qubits_states_sep[i] = np.array([1+0j, 0+0j])\n",
    "        \n",
    "        self.full_state = self.get_full_state()\n",
    "    \n",
    "    def get_full_state(self, qubits_states_sep):\n",
    "        from functools import reduce         \n",
    "        return reduce(np.kron, qubits_states_sep)\n",
    "    \n",
    "    @property\n",
    "    def get_n(self):\n",
    "        return self.n\n",
    "        \n",
    "        \n",
    "\n",
    "def hadamard(x, Q):\n",
    "\tcodomain = []\n",
    "\tfor y in range(Q):\n",
    "\t\tamplitude = complex(pow(-1.0, bitCount(x & y) & 1))\n",
    "\t\tcodomain.append(Mapping(y, amplitude))\n",
    "\n",
    "\treturn  codomain\n",
    "\n",
    "def hadamard(x, Q):\n",
    "    \"\"\"\n",
    "    :type x: vector state to be Hadamardized\n",
    "    :type Q: 2^n\n",
    "    \"\"\"\n",
    "    codomain = []\n",
    "    for y in range(Q):\n",
    "        amplitude = complex(pow(-1., bit_count(x & y) & 1))\n",
    "        codomain.append(Mapping(y, amplitude))\n",
    "    return codomain\n",
    "\n",
    "def hadamard(x, y_i):\n",
    "    \"\"\"\n",
    "    :type x: vector state to be Hadamardized\n",
    "    :type Q: 2^n\n",
    "    \"\"\"\n",
    "    return np.complex(pow(-1., bit_count(x & y_i) & 1))"
   ]
  }
 ],
 "metadata": {
  "kernelspec": {
   "display_name": "Python 3",
   "language": "python",
   "name": "python3"
  },
  "language_info": {
   "codemirror_mode": {
    "name": "ipython",
    "version": 3
   },
   "file_extension": ".py",
   "mimetype": "text/x-python",
   "name": "python",
   "nbconvert_exporter": "python",
   "pygments_lexer": "ipython3",
   "version": "3.7.0"
  }
 },
 "nbformat": 4,
 "nbformat_minor": 2
}
