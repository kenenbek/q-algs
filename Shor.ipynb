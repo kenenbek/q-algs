{
 "cells": [
  {
   "cell_type": "code",
   "execution_count": 63,
   "metadata": {},
   "outputs": [],
   "source": [
    "%load_ext autoreload\n",
    "%autoreload 2"
   ]
  },
  {
   "cell_type": "code",
   "execution_count": 43,
   "metadata": {},
   "outputs": [],
   "source": [
    "import numpy as np\n",
    "import quant\n",
    "from functools import reduce\n",
    "from random import randint"
   ]
  },
  {
   "cell_type": "code",
   "execution_count": 31,
   "metadata": {},
   "outputs": [],
   "source": [
    "def create_qft_matrix(n):\n",
    "    \"\"\"\n",
    "    Generates Quantum Fourier Transformation matrix \n",
    "    \n",
    "    Parameters\n",
    "    ----------\n",
    "    n: int\n",
    "        Number of qubits to be transformed\n",
    "    \n",
    "    Return\n",
    "    ------\n",
    "    \n",
    "    qft: array_like\n",
    "        QFT matrix\n",
    "    \"\"\"\n",
    "    N = 2 ** n\n",
    "    w = croot(N, 1)\n",
    "    norma = 1 / np.sqrt(N)\n",
    "    res = np.empty([N, N], dtype=np.complex_)\n",
    "    \n",
    "    for x in range(N):\n",
    "        \n",
    "        temp = np.zeros([N, 1], dtype=np.complex_)\n",
    "        \n",
    "        for k in range(N):\n",
    "            w_xk = w ** (x * k % N)\n",
    "            vector_k = format(k, '0' + str(n) + 'b')\n",
    "            column = quant.string_to_state(vector_k)\n",
    "            temp += w_xk * column\n",
    "            \n",
    "        res[:, x] = temp[:, 0]\n",
    "    \n",
    "    return norma * res"
   ]
  },
  {
   "cell_type": "code",
   "execution_count": 32,
   "metadata": {},
   "outputs": [],
   "source": [
    "def croot(n, k):\n",
    "    if n<=0:\n",
    "        return None\n",
    "    return np.exp((2 * np.pi * 1j * k) / n)\n",
    "    "
   ]
  },
  {
   "cell_type": "markdown",
   "metadata": {},
   "source": [
    "## Step 1 "
   ]
  },
  {
   "cell_type": "code",
   "execution_count": 33,
   "metadata": {},
   "outputs": [],
   "source": [
    "N = 15"
   ]
  },
  {
   "cell_type": "code",
   "execution_count": 34,
   "metadata": {},
   "outputs": [],
   "source": [
    "input_q = 4 \n",
    "output_q = 4"
   ]
  },
  {
   "cell_type": "code",
   "execution_count": 35,
   "metadata": {},
   "outputs": [],
   "source": [
    "x_0n = reduce(np.kron, np.repeat(quant.ZERO[np.newaxis, :], input_q, axis=0))\n",
    "y_0n = reduce(np.kron, np.repeat(quant.ZERO[np.newaxis, :], output_q, axis=0))\n",
    "input_vector = np.kron(x_0n, y_0n)"
   ]
  },
  {
   "cell_type": "markdown",
   "metadata": {},
   "source": [
    "## Step 2\n",
    "Hadamard stage"
   ]
  },
  {
   "cell_type": "code",
   "execution_count": 36,
   "metadata": {},
   "outputs": [],
   "source": [
    "H = quant.hadamard_n(input_q)\n",
    "I = reduce(np.kron, np.repeat(np.eye(2)[np.newaxis, :], output_q, axis=0))\n",
    "HI = np.kron(H, I)"
   ]
  },
  {
   "cell_type": "code",
   "execution_count": 37,
   "metadata": {},
   "outputs": [],
   "source": [
    "input_vector_s2 = np.dot(HI, input_vector)"
   ]
  },
  {
   "cell_type": "markdown",
   "metadata": {},
   "source": [
    "## Step 3\n",
    "Function \n",
    "$$ a^x mod N $$\n"
   ]
  },
  {
   "cell_type": "code",
   "execution_count": 38,
   "metadata": {},
   "outputs": [],
   "source": [
    "def create_number_theory_matrix(n, func):\n",
    "    N = 2 ** n\n",
    "    res = np.empty([N, N])\n",
    "    mid = n // 2 \n",
    "    \n",
    "    for num in range(N):\n",
    "        state = format(num, '0' + str(n) + 'b')\n",
    "        X = state[:mid]\n",
    "        Y_ = int(state[mid:], 2) ^ func(int(X, 2))\n",
    "        Y = format(Y_, '0' + str(mid) + 'b')\n",
    "        column = quant.string_to_state(X + Y)\n",
    "        \n",
    "        res[:, num] = column[:, 0]\n",
    "    \n",
    "    return res  "
   ]
  },
  {
   "cell_type": "code",
   "execution_count": 39,
   "metadata": {},
   "outputs": [],
   "source": [
    "def get_coprime(N):\n",
    "    while True:\n",
    "        a = randint(2, N-1)\n",
    "        if gcd(a, N) == 1:\n",
    "            return a"
   ]
  },
  {
   "cell_type": "code",
   "execution_count": 40,
   "metadata": {},
   "outputs": [],
   "source": [
    "def gcd(a, b):\n",
    "    while b != 0:\n",
    "        tA = a % b\n",
    "        a = b\n",
    "        b = tA\n",
    "\n",
    "    return a"
   ]
  },
  {
   "cell_type": "code",
   "execution_count": 41,
   "metadata": {},
   "outputs": [],
   "source": [
    "def U_func(a, N):\n",
    "    return lambda x : (a ** x) % N"
   ]
  },
  {
   "cell_type": "code",
   "execution_count": 50,
   "metadata": {},
   "outputs": [
    {
     "name": "stdout",
     "output_type": "stream",
     "text": [
      "7\n"
     ]
    }
   ],
   "source": [
    "a = get_coprime(N)\n",
    "print(a)"
   ]
  },
  {
   "cell_type": "code",
   "execution_count": 51,
   "metadata": {},
   "outputs": [],
   "source": [
    "U_f = create_number_theory_matrix(input_q + output_q, U_func(a, N))"
   ]
  },
  {
   "cell_type": "code",
   "execution_count": 52,
   "metadata": {},
   "outputs": [],
   "source": [
    "input_vector_s3 = np.dot(U_f, input_vector_s2)"
   ]
  },
  {
   "cell_type": "markdown",
   "metadata": {},
   "source": [
    "## Step 4"
   ]
  },
  {
   "cell_type": "code",
   "execution_count": 53,
   "metadata": {},
   "outputs": [],
   "source": [
    "QFT = create_qft_matrix(input_q + output_q)"
   ]
  },
  {
   "cell_type": "code",
   "execution_count": 54,
   "metadata": {},
   "outputs": [],
   "source": [
    "input_vector_s4 = np.dot(QFT, input_vector_s3)"
   ]
  },
  {
   "cell_type": "markdown",
   "metadata": {},
   "source": [
    "## Step 5\n",
    "Measuring"
   ]
  },
  {
   "cell_type": "code",
   "execution_count": 68,
   "metadata": {},
   "outputs": [
    {
     "name": "stdout",
     "output_type": "stream",
     "text": [
      "|0000> (0.1064212711924642-1.4207642135853447e-19j)\n",
      "|0001> (0.04463590331320625-9.796316366645934e-19j)\n",
      "|0010> (0.04501521851717494+3.0697800232125416e-19j)\n",
      "|0011> (0.08851544143941953+4.5453042605161975e-19j)\n",
      "|0100> (0.05705830108336861-2.9631525379425685e-20j)\n",
      "|0101> (0.05569273951595075+2.6626393125647376e-19j)\n",
      "|0110> (0.04229091088300389+4.540965756170749e-19j)\n",
      "|0111> (0.08380771405541383-1.259522641129069e-18j)\n",
      "|1000> (0.09361787729441373+3.683474545153291e-19j)\n",
      "|1001> (0.03476897591598383-3.2219016622755303e-19j)\n",
      "|1010> (0.024930635777089715+2.3820771658267202e-20j)\n",
      "|1011> (0.09334467655025061+8.060109086413044e-19j)\n",
      "|1100> (0.08707972999422156+8.609133927012375e-19j)\n",
      "|1101> (0.05197520169039383-7.755644862043816e-19j)\n",
      "|1110> (0.04358605525826584-4.6514613032161055e-20j)\n",
      "|1111> (0.047259347519384744-8.749145583926526e-20j)\n",
      "(1.0000000000000058-1.0166148307242264e-19j)\n"
     ]
    }
   ],
   "source": [
    "states = 2 ** input_q\n",
    "t = 0\n",
    "\n",
    "maxProb = 0\n",
    "meas = 0\n",
    "\n",
    "for num in range(states):\n",
    "    basis_str = format(num, '0' + str(input_q) + 'b')\n",
    "    \n",
    "    basis = quant.string_to_state(basis_str)\n",
    "    prob = quant.measure(input_vector_s4, basis)\n",
    "    t += prob\n",
    "    print('|' + basis_str + '>', prob)\n",
    "    \n",
    "    if prob > maxProb:\n",
    "        maxProb = prob\n",
    "        meas = num\n",
    "print(t)"
   ]
  },
  {
   "cell_type": "code",
   "execution_count": 74,
   "metadata": {},
   "outputs": [],
   "source": [
    "r = cf(2, input_q+output_q, N)"
   ]
  },
  {
   "cell_type": "code",
   "execution_count": 77,
   "metadata": {},
   "outputs": [
    {
     "name": "stdout",
     "output_type": "stream",
     "text": [
      "0\n",
      "8\n",
      "4\n",
      "8\n",
      "2\n",
      "8\n",
      "4\n",
      "8\n",
      "0\n",
      "8\n",
      "4\n",
      "8\n",
      "2\n",
      "8\n",
      "4\n",
      "8\n"
     ]
    }
   ],
   "source": [
    "for i in range(16):\n",
    "    print(cf(i, input_q+output_q, N))"
   ]
  },
  {
   "cell_type": "code",
   "execution_count": 66,
   "metadata": {},
   "outputs": [],
   "source": [
    "def cf(y, Q, N):\n",
    "    fractions = extendedGCD(y, Q)\n",
    "    depth = 2\n",
    "\n",
    "    def partial(fractions, depth):\n",
    "        c = 0\n",
    "        r = 1\n",
    "\n",
    "        for i in reversed(range(depth)):\n",
    "            tR = fractions[i] * r + c\n",
    "            c = r\n",
    "            r = tR\n",
    "\n",
    "        return c\n",
    "\n",
    "    r = 0\n",
    "    for d in range(depth, len(fractions) + 1):\n",
    "        tR = partial(fractions, d)\n",
    "        if tR == r or tR >= N:\n",
    "            return r\n",
    "\n",
    "        r = tR\n",
    "\n",
    "    return r"
   ]
  },
  {
   "cell_type": "code",
   "execution_count": 67,
   "metadata": {},
   "outputs": [],
   "source": [
    "# Extended Euclidean\n",
    "def extendedGCD(a, b):\n",
    "    fractions = []\n",
    "    while b != 0:\n",
    "        fractions.append(a // b)\n",
    "        tA = a % b\n",
    "        a = b\n",
    "        b = tA\n",
    "\n",
    "    return fractions"
   ]
  },
  {
   "cell_type": "code",
   "execution_count": 11,
   "metadata": {},
   "outputs": [
    {
     "data": {
      "text/plain": [
       "array([[0., 0., 0., 0., 0., 0., 0., 0.],\n",
       "       [0., 1., 2., 3., 4., 5., 6., 7.],\n",
       "       [0., 2., 4., 6., 0., 2., 4., 6.],\n",
       "       [0., 3., 6., 1., 4., 7., 2., 5.],\n",
       "       [0., 4., 0., 4., 0., 4., 0., 4.],\n",
       "       [0., 5., 2., 7., 4., 1., 6., 3.],\n",
       "       [0., 6., 4., 2., 0., 6., 4., 2.],\n",
       "       [0., 7., 6., 5., 4., 3., 2., 1.]])"
      ]
     },
     "execution_count": 11,
     "metadata": {},
     "output_type": "execute_result"
    }
   ],
   "source": [
    "res"
   ]
  },
  {
   "cell_type": "code",
   "execution_count": 21,
   "metadata": {},
   "outputs": [],
   "source": [
    "a = create_qft_matrix(3)"
   ]
  },
  {
   "cell_type": "code",
   "execution_count": 30,
   "metadata": {},
   "outputs": [
    {
     "data": {
      "text/plain": [
       "(-6.661338147750939e-16-1j)"
      ]
     },
     "execution_count": 30,
     "metadata": {},
     "output_type": "execute_result"
    }
   ],
   "source": [
    "a[1, 6]"
   ]
  },
  {
   "cell_type": "code",
   "execution_count": null,
   "metadata": {},
   "outputs": [],
   "source": []
  }
 ],
 "metadata": {
  "kernelspec": {
   "display_name": "Python 3",
   "language": "python",
   "name": "python3"
  },
  "language_info": {
   "codemirror_mode": {
    "name": "ipython",
    "version": 3
   },
   "file_extension": ".py",
   "mimetype": "text/x-python",
   "name": "python",
   "nbconvert_exporter": "python",
   "pygments_lexer": "ipython3",
   "version": "3.7.2"
  }
 },
 "nbformat": 4,
 "nbformat_minor": 2
}
