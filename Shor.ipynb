{
 "cells": [
  {
   "cell_type": "code",
   "execution_count": 29,
   "metadata": {},
   "outputs": [],
   "source": [
    "import numpy as np\n",
    "import quant\n",
    "from functools import reduce"
   ]
  },
  {
   "cell_type": "code",
   "execution_count": 25,
   "metadata": {},
   "outputs": [],
   "source": [
    "def create_qft_matrix(n):\n",
    "    \"\"\"\n",
    "    Generates Quantum Fourier Transformation matrix \n",
    "    \n",
    "    Parameters\n",
    "    ----------\n",
    "    n: int\n",
    "        Number of qubits to be transformed\n",
    "    \n",
    "    Return\n",
    "    ------\n",
    "    \n",
    "    qft: array_like\n",
    "        QFT matrix\n",
    "    \"\"\"\n",
    "    N = 2 ** n\n",
    "    w = croot(N, 1)\n",
    "    norma = np.sqrt(N)\n",
    "    res = np.empty([N, N], dtype=np.complex_)\n",
    "    \n",
    "    for x in range(N):\n",
    "        \n",
    "        temp = np.zeros([N, 1], dtype=np.complex_)\n",
    "        \n",
    "        for k in range(N):\n",
    "            w_xk = w ** (x * k % N)\n",
    "            vector_k = format(k, '0' + str(n) + 'b')\n",
    "            column = quant.string_to_state(vector_k)\n",
    "            temp += w_xk * column\n",
    "            \n",
    "        res[:, x] = temp[:, 0]\n",
    "    \n",
    "    return norma * res        "
   ]
  },
  {
   "cell_type": "code",
   "execution_count": 12,
   "metadata": {},
   "outputs": [],
   "source": [
    "def croot(n, k):\n",
    "    if n<=0:\n",
    "        return None\n",
    "    return np.exp((2 * np.pi * 1j * k) / n)\n",
    "    "
   ]
  },
  {
   "cell_type": "markdown",
   "metadata": {},
   "source": [
    "## Step 1 "
   ]
  },
  {
   "cell_type": "code",
   "execution_count": 68,
   "metadata": {},
   "outputs": [],
   "source": [
    "N = 15"
   ]
  },
  {
   "cell_type": "code",
   "execution_count": 64,
   "metadata": {},
   "outputs": [],
   "source": [
    "input_q = 4 \n",
    "output_q = 4"
   ]
  },
  {
   "cell_type": "code",
   "execution_count": 65,
   "metadata": {},
   "outputs": [],
   "source": [
    "x_0n = reduce(np.kron, np.repeat(quant.ZERO[np.newaxis, :], input_q, axis=0))\n",
    "y_0n = reduce(np.kron, np.repeat(quant.ZERO[np.newaxis, :], output_q, axis=0))\n",
    "input_vector = np.kron(x_0n, y_0n)"
   ]
  },
  {
   "cell_type": "markdown",
   "metadata": {},
   "source": [
    "## Step 2\n",
    "Hadamard stage"
   ]
  },
  {
   "cell_type": "code",
   "execution_count": 66,
   "metadata": {},
   "outputs": [],
   "source": [
    "H = quant.hadamard_n(input_q)\n",
    "I = reduce(np.kron, np.repeat(np.eye(2)[np.newaxis, :], output_q, axis=0))\n",
    "HI = np.kron(H, I)"
   ]
  },
  {
   "cell_type": "code",
   "execution_count": 67,
   "metadata": {},
   "outputs": [],
   "source": [
    "input_vector_s2 = np.dot(HI, input_vector)"
   ]
  },
  {
   "cell_type": "markdown",
   "metadata": {},
   "source": [
    "## Step 3\n",
    "Function \n",
    "$$ a^x mod N $$\n"
   ]
  },
  {
   "cell_type": "code",
   "execution_count": 101,
   "metadata": {},
   "outputs": [],
   "source": [
    "def create_number_theory_matrix(n, func):\n",
    "    N = 2 ** n\n",
    "    res = np.empty([N, N])\n",
    "    mid = n // 2 \n",
    "    \n",
    "    for num in range(N):\n",
    "        state = format(num, '0' + str(n) + 'b')\n",
    "        X = state[:mid]\n",
    "        Y_ = int(state[mid:], 2) ^ func(int(X, 2))\n",
    "        Y = format(Y_, '0' + str(mid) + 'b')\n",
    "        column = quant.string_to_state(X + Y)\n",
    "        \n",
    "        res[:, num] = column[:, 0]\n",
    "    \n",
    "    return res  "
   ]
  },
  {
   "cell_type": "code",
   "execution_count": 46,
   "metadata": {},
   "outputs": [],
   "source": [
    "def get_coprime(N):\n",
    "    while True:\n",
    "        a = randint(2, N-1)\n",
    "        if gcd(a, N) == 1:\n",
    "            return a"
   ]
  },
  {
   "cell_type": "code",
   "execution_count": 43,
   "metadata": {},
   "outputs": [],
   "source": [
    "def gcd(a, b):\n",
    "    while b != 0:\n",
    "        tA = a % b\n",
    "        a = b\n",
    "        b = tA\n",
    "\n",
    "    return a"
   ]
  },
  {
   "cell_type": "code",
   "execution_count": 76,
   "metadata": {},
   "outputs": [],
   "source": [
    "def U_func(a, N):\n",
    "    return lambda x : (a ** x) % N"
   ]
  },
  {
   "cell_type": "code",
   "execution_count": 109,
   "metadata": {},
   "outputs": [
    {
     "name": "stdout",
     "output_type": "stream",
     "text": [
      "7\n"
     ]
    }
   ],
   "source": [
    "a = get_coprime(N)\n",
    "print(a)"
   ]
  },
  {
   "cell_type": "code",
   "execution_count": 110,
   "metadata": {},
   "outputs": [],
   "source": [
    "U_f = create_number_theory_matrix(input_q + output_q, U_func(a, N))"
   ]
  },
  {
   "cell_type": "code",
   "execution_count": 111,
   "metadata": {},
   "outputs": [],
   "source": [
    "input_vector_s3 = np.dot(U_f, input_vector_s2)"
   ]
  },
  {
   "cell_type": "markdown",
   "metadata": {},
   "source": [
    "## Step 4"
   ]
  },
  {
   "cell_type": "code",
   "execution_count": 112,
   "metadata": {},
   "outputs": [],
   "source": [
    "QFT = create_qft_matrix(input_q + output_q)"
   ]
  },
  {
   "cell_type": "code",
   "execution_count": 113,
   "metadata": {},
   "outputs": [],
   "source": [
    "input_vector_s4 = np.dot(QFT, input_vector_s3)"
   ]
  },
  {
   "cell_type": "markdown",
   "metadata": {},
   "source": [
    "## Step 5\n",
    "Measuring"
   ]
  },
  {
   "cell_type": "code",
   "execution_count": 114,
   "metadata": {},
   "outputs": [
    {
     "name": "stdout",
     "output_type": "stream",
     "text": [
      "|0000> (6300.632673994301-1715.7480420251152j)\n",
      "|0001> (-1303.9280996412372-1679.6061728420077j)\n",
      "|0010> (-283.8783078839972+2075.6179138759853j)\n",
      "|0011> (-1719.5181131738798-3688.198414172225j)\n",
      "|0100> (-3055.4478584191943+616.6009373171348j)\n",
      "|0101> (-2467.004119137943+2258.2191068166885j)\n",
      "|0110> (2309.7675286752738+1194.3612643978418j)\n",
      "|0111> (1755.3762955867076-1258.6674413585374j)\n",
      "|1000> (3085.476773539388+1485.6593666807507j)\n",
      "|1001> (1385.6283787551054-803.3145177525053j)\n",
      "|1010> (604.079119443306-1348.1734501871492j)\n",
      "|1011> (-5508.49242503301-1632.6852659142223j)\n",
      "|1100> (-1550.4466638851336+2594.1667268667443j)\n",
      "|1101> (-346.91108520529735-1387.547554602982j)\n",
      "|1110> (-1266.1832654639234+1738.4434102941316j)\n",
      "|1111> (2060.8491678495234+1550.8721326054292j)\n"
     ]
    }
   ],
   "source": [
    "states = 2 ** input_q\n",
    "\n",
    "for num in range(states):\n",
    "    basis_str = format(num, '0' + str(input_q) + 'b')\n",
    "    \n",
    "    basis = quant.string_to_state(basis_str)\n",
    "    prob = quant.measure(input_vector_s4, basis)\n",
    "    print('|' + basis_str + '>', prob)"
   ]
  },
  {
   "cell_type": "code",
   "execution_count": null,
   "metadata": {},
   "outputs": [],
   "source": []
  }
 ],
 "metadata": {
  "kernelspec": {
   "display_name": "Python 3",
   "language": "python",
   "name": "python3"
  },
  "language_info": {
   "codemirror_mode": {
    "name": "ipython",
    "version": 3
   },
   "file_extension": ".py",
   "mimetype": "text/x-python",
   "name": "python",
   "nbconvert_exporter": "python",
   "pygments_lexer": "ipython3",
   "version": "3.7.0"
  }
 },
 "nbformat": 4,
 "nbformat_minor": 2
}
