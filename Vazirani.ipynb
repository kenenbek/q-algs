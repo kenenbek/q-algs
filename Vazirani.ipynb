{
 "cells": [
  {
   "cell_type": "markdown",
   "metadata": {},
   "source": [
    "# Bernstein-Vazirani alrogithm \n",
    "\n",
    "Given function $$f: \\{0, 1\\}^{n} \\rightarrow \\{0, 1\\}$$\n",
    "The goal is to determine: $$ f (x) = a \\bullet x $$\n",
    "where $$ a \\bullet x = a_0 x_0 \\oplus a_1 x_1 \\oplus \\dots \\oplus a_{n_1} x_{n_1} $$"
   ]
  },
  {
   "cell_type": "code",
   "execution_count": 1,
   "metadata": {},
   "outputs": [],
   "source": [
    "import numpy as np\n",
    "import quant\n",
    "from functools import reduce"
   ]
  },
  {
   "cell_type": "code",
   "execution_count": 2,
   "metadata": {},
   "outputs": [],
   "source": [
    "%load_ext autoreload\n",
    "%autoreload 2"
   ]
  },
  {
   "cell_type": "markdown",
   "metadata": {},
   "source": [
    "## Step 1\n",
    "Create input vector \n",
    "$$ | 0 \\dots 0 \\rangle \\oplus | 1 \\rangle$$"
   ]
  },
  {
   "cell_type": "code",
   "execution_count": 3,
   "metadata": {},
   "outputs": [],
   "source": [
    "qubit_number = 3\n",
    "a = 6"
   ]
  },
  {
   "cell_type": "code",
   "execution_count": 4,
   "metadata": {},
   "outputs": [],
   "source": [
    "x_0n = reduce(np.kron, np.repeat(quant.ZERO[np.newaxis, :], qubit_number, axis=0))\n",
    "y1 = quant.ONE\n",
    "input_vector = np.kron(x_0n, y1)"
   ]
  },
  {
   "cell_type": "markdown",
   "metadata": {},
   "source": [
    "## Step 2\n",
    "Apply Hadamard $H^{\\oplus n+1}$"
   ]
  },
  {
   "cell_type": "code",
   "execution_count": 5,
   "metadata": {},
   "outputs": [],
   "source": [
    "H = quant.hadamard_n(qubit_number + 1)"
   ]
  },
  {
   "cell_type": "code",
   "execution_count": 6,
   "metadata": {},
   "outputs": [],
   "source": [
    "vector_s2 = np.dot(H, input_vector)"
   ]
  },
  {
   "cell_type": "markdown",
   "metadata": {},
   "source": [
    "## Step 3\n",
    "Apply function $U_f = | x \\rangle | y \\oplus f(x) \\rangle$\n"
   ]
  },
  {
   "cell_type": "code",
   "execution_count": 7,
   "metadata": {},
   "outputs": [],
   "source": [
    "def create_bernstein_vazirani_function(qubit_number, func):\n",
    "    states = 2 ** qubit_number\n",
    "    res = np.empty([states, states])\n",
    "    \n",
    "    for num in range(states):\n",
    "        state = format(num, '0' + str(qubit_number) + 'b')\n",
    "        X = state[:-1]\n",
    "        y = str(int(state[-1]) ^ func(int(X, 2)))\n",
    "        column = quant.string_to_state(X+y)\n",
    "        \n",
    "        res[:, num] = column[:, 0]\n",
    "    \n",
    "    return res"
   ]
  },
  {
   "cell_type": "code",
   "execution_count": 8,
   "metadata": {},
   "outputs": [],
   "source": [
    "U_f = create_bernstein_vazirani_function(qubit_number + 1, lambda x: quant.bit_count(a & x) & 1)"
   ]
  },
  {
   "cell_type": "code",
   "execution_count": 9,
   "metadata": {},
   "outputs": [],
   "source": [
    "vector_s3 = np.dot(U_f, vector_s2)"
   ]
  },
  {
   "cell_type": "markdown",
   "metadata": {},
   "source": [
    "## Step 4\n",
    "Apply Hadamard to input vectors"
   ]
  },
  {
   "cell_type": "code",
   "execution_count": 10,
   "metadata": {},
   "outputs": [],
   "source": [
    "H_n = quant.hadamard_n(qubit_number)"
   ]
  },
  {
   "cell_type": "code",
   "execution_count": 11,
   "metadata": {},
   "outputs": [],
   "source": [
    "vector_s4 = np.dot(np.kron(H_n, np.eye(2)), vector_s3)"
   ]
  },
  {
   "cell_type": "markdown",
   "metadata": {},
   "source": [
    "## Step 5\n",
    "Measuring stage"
   ]
  },
  {
   "cell_type": "code",
   "execution_count": 12,
   "metadata": {},
   "outputs": [
    {
     "name": "stdout",
     "output_type": "stream",
     "text": [
      "|000> 0.0\n",
      "|001> 0.0\n",
      "|010> 0.0\n",
      "|011> 0.0\n",
      "|100> 9.071053470133314e-35\n",
      "|101> 0.0\n",
      "|110> 0.9999999999999989\n",
      "|111> 0.0\n"
     ]
    }
   ],
   "source": [
    "states = 2**qubit_number\n",
    "\n",
    "for num in range(states):\n",
    "    basis_str = format(num, '0' + str(qubit_number) + 'b')\n",
    "    \n",
    "    basis = quant.string_to_state(basis_str)\n",
    "    prob = quant.measure(vector_s4, basis)\n",
    "    print('|' + basis_str + '>', prob)"
   ]
  }
 ],
 "metadata": {
  "kernelspec": {
   "display_name": "Python 3",
   "language": "python",
   "name": "python3"
  },
  "language_info": {
   "codemirror_mode": {
    "name": "ipython",
    "version": 3
   },
   "file_extension": ".py",
   "mimetype": "text/x-python",
   "name": "python",
   "nbconvert_exporter": "python",
   "pygments_lexer": "ipython3",
   "version": "3.7.2"
  }
 },
 "nbformat": 4,
 "nbformat_minor": 2
}
