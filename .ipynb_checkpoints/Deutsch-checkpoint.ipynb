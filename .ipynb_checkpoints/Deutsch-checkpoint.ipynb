{
 "cells": [
  {
   "cell_type": "markdown",
   "metadata": {},
   "source": [
    "# Introduction to Quantum Computing"
   ]
  },
  {
   "cell_type": "markdown",
   "metadata": {},
   "source": [
    "## Quantum computing properties\n",
    "In classical world we have two possible outcomes for bit: either $0$ or $1$. The same can be applied to quantum bit or so-called qubit. Qubit also can be in a state $0$ or $1$. Physicist wished to separate the state of classical bit from quantum bit. They invented a special notation called bra-ket notation. So, in quantum world $0$ becomes $|0 \\rangle$,  $1$ transforms to $|1 \\rangle$, $0101$ turns into $|0101 \\rangle$ and so on.\n",
    "\n",
    "But in quantum world, states of qubits are more than just a numbers. They are vectors. Probably, you remember from high school math that vectos has a beginning and an end. For illustration purposes, we can use the unit circle, it means that our circle has the radius of one and position of the circle's center is located in (0, 0) point. "
   ]
  },
  {
   "cell_type": "markdown",
   "metadata": {},
   "source": [
    "<img src=\"plotter/images/circle.png\" width=\"240\" height=\"240\" align=\"center\"/>"
   ]
  },
  {
   "cell_type": "markdown",
   "metadata": {},
   "source": [
    "Remember it? Let's move on. \n",
    "\n",
    "For example, $|0 \\rangle$ has coordinates (1, 0) on the unit cirle. It's just a convention for simplify our life. So state of $|0 \\rangle$ looks like:"
   ]
  },
  {
   "cell_type": "markdown",
   "metadata": {},
   "source": [
    "<img src=\"plotter/images/myplot0.png\" width=\"240\" height=\"240\" align=\"center\"/>"
   ]
  },
  {
   "cell_type": "markdown",
   "metadata": {},
   "source": [
    "$|1 \\rangle$, in turn, has the coordinates of arrow's end (0, 1) and looks like this:"
   ]
  },
  {
   "cell_type": "markdown",
   "metadata": {},
   "source": [
    "<img src=\"plotter/images/myplot1.png\" width=\"240\" height=\"240\" align=\"center\"/>"
   ]
  },
  {
   "cell_type": "markdown",
   "metadata": {},
   "source": [
    "You might get suspicious and ask: \"Are we restricted to use only these arrow's end locations?\". And the answer is \"of course not\". Any point on the circle line can be a valid position for arrow's end. The next question is \"how many points can be placed on the circle line\"?. Infinitely many! This fact could suprise you, but yes, a quantum bit has an infinitely many quantum states as opposed to classical two-state system."
   ]
  },
  {
   "cell_type": "markdown",
   "metadata": {},
   "source": [
    "<img src=\"plotter/images/myplotdots.png\" width=\"240\" height=\"240\" align=\"center\"/>"
   ]
  },
  {
   "cell_type": "markdown",
   "metadata": {},
   "source": [
    "This wonderful property makes a qubit  potentially more powerfull then a classical bit. And this property has a name -- $superposition$. We say that qubit is in superposiotion state when its state in some combination of his \"basic\" $|0 \\rangle$ and $|1 \\rangle$ states. Mathematically, we can present this fact in a following form:\n",
    "$$ \\alpha|0 \\rangle + \\beta |1 \\rangle$$\n",
    "where $\\alpha$ and $\\beta$ are real (even complex) numbers. Like\n",
    "\n",
    "<img src=\"plotter/images/myplot32.png\" width=\"240\" height=\"240\" align=\"center\"/>"
   ]
  },
  {
   "cell_type": "markdown",
   "metadata": {},
   "source": [
    "Or:\n",
    "<img src=\"plotter/images/myplot12.png\" width=\"240\" height=\"240\" align=\"center\"/>"
   ]
  },
  {
   "cell_type": "markdown",
   "metadata": {},
   "source": [
    "You can suppose that not all complex $\\alpha$ and $\\beta$ are good to create a valid superposition state. And you are right. $\\alpha$ and $\\beta$ must satisfy the following condition, called $normalization$:\n",
    "$$\\alpha^2 + \\beta^2 = 1$$"
   ]
  },
  {
   "cell_type": "markdown",
   "metadata": {},
   "source": [
    "Here is the little catch: arithmetic reductions (which are possible in classical world like $0+1=1$, $0-1=-1$, etc.)  are not allowed here:\n",
    "$$|0 \\rangle + |1 \\rangle \\neq |1 \\rangle$$\n",
    "$$|0 \\rangle - |1 \\rangle \\neq -|1 \\rangle$$\n",
    "\n",
    "We can't reduce them like in classical manner because $|0 \\rangle$ + $|1 \\rangle$ are also vectors. Just keep them as they are without any reduction."
   ]
  },
  {
   "cell_type": "markdown",
   "metadata": {},
   "source": [
    "### Qubit measurement\n",
    "As pragmatic people, we want to gain knowledge out of a qubit state. To do it, we need to expose a qubit to measurement. Here is amazing fact: when we measure state of a qubit $\\alpha |0 \\rangle + \\beta |1 \\rangle$  we can only get $|0 \\rangle$ with probability $\\alpha^2$ or  $|1 \\rangle$ with probability $\\beta^2$. We lost all information about the fact that qubit was in some combination of $|0 \\rangle$ and $|1 \\rangle$. \n",
    "<img src=\"plotter/images/alphabeta_measurement.png\" width=\"600\" height=\"240\" align=\"center\"/>"
   ]
  },
  {
   "cell_type": "markdown",
   "metadata": {},
   "source": [
    "### Multi qubit state \n",
    "\n",
    "If we have two qubits, their states can be like as following:\n",
    "$$|00 \\rangle, \\space |01 \\rangle, \\space |10 \\rangle, \\space  |11 \\rangle $$\n",
    "or, remember, we can have superposition state (combination between above states):\n",
    "$$ \\alpha |00 \\rangle + \\beta |01 \\rangle + \\gamma |10 \\rangle + \\delta |11 \\rangle $$\n",
    "Do not forget about normalization factor which places restrictions on $\\alpha, \\beta, \\gamma$ and $\\delta$ values:\n",
    "$$\\alpha^2 + \\beta^2 + \\gamma^2 + \\delta^2$$\n",
    "Following the same principle, three qubits's basic states are:\n",
    "$$|000\\rangle , \\space|001\\rangle , \\space |010\\rangle ,\\space |011\\rangle , \\space |100\\rangle , \\space |101\\rangle ,\\space |110\\rangle , \\space |111\\rangle$$\n",
    "Or some superposition between them:\n",
    "$$\\alpha |000\\rangle + \\beta |001\\rangle +\\gamma |010\\rangle + \\delta |011\\rangle + \\epsilon |100\\rangle + \\zeta |101\\rangle + \\eta |110\\rangle + \\theta |111\\rangle $$\n",
    "With restrictions on $\\alpha, \\beta, \\gamma, \\delta, \\epsilon, \\zeta, \\eta$ and $\\theta$:\n",
    "$$\\alpha^2 + \\beta^2 + \\gamma^2 + \\delta^2 + \\epsilon^2 + \\zeta^2 + \\eta^2 + \\theta^2 = 1$$\n",
    "And so on..."
   ]
  },
  {
   "cell_type": "markdown",
   "metadata": {},
   "source": [
    "## How to perform quantum calculations?\n",
    "In quantum world calculations are performed by gates. Probably, you already know some of them. For example, $X$ gate flips bit to the opposite, similar to the classical $NOT$ gate. This gate has such a name because it rotates a vector in a three dimensional space around X-axis (it is not well shown on previous images because they are two dimensional). \n",
    "$$ |0\\rangle \\xrightarrow{X} | 1\\rangle $$\n",
    "$$ |1 \\rangle \\xrightarrow{X} |0 \\rangle $$\n",
    "You can notice that if $X$ gate doesn't change the state when it is applied to the same qubit $ |x \\rangle $ twice:\n",
    "$$ |x \\rangle \\xrightarrow{XX} | x\\rangle $$\n",
    "It turns out that in quantum computing only reversible gates are allowed, in other words if gate applied twice in the row to the same state should return the initial state:\n",
    "$$ |x \\rangle \\xrightarrow{Gate} | y \\rangle \\xrightarrow{Gate} | x \\rangle$$\n"
   ]
  },
  {
   "cell_type": "markdown",
   "metadata": {},
   "source": [
    "## Hadamard\n",
    "Now let's talk about quantum gate which doesn't have analogy in the classical world. This gate was named after French mathematician Jacques Hadamard who is famous for his contribution to prime number theory, complex analysis and functional analysis, actually he coined this term. During his life he interviewed many leadind scientists and researchers about how they approach and solve problem. He was also looking for the answer how creativity arises in one's mind. In 1945 Hadamard published a book \"Psychology of Invention in the Mathematical Field\" where he summerized his experience.\n",
    "\n",
    "<img src=\"images/hadamard.png\" width=\"240\" height=\"240\" align=\"center\"/>\n",
    "\n",
    "This gate acts on quantum state $|0\\rangle $ as follows:\n",
    "$$ |0\\rangle \\xrightarrow{H} \\frac{1}{\\sqrt{2}} (| 0\\rangle + | 1\\rangle) $$\n",
    "\n",
    "Or we can say that it turns around by 45 degree:\n",
    "<img src=\"plotter/images/com0.png\" width=\"600\" height=\"240\" align=\"center\"/>\n",
    "\n",
    "Similarly, Hadamard gate acts on $|1\\rangle$:  \n",
    "$$ |1\\rangle \\xrightarrow{H} \\frac{1}{\\sqrt{2}} (| 0\\rangle - | 1\\rangle) $$\n",
    "Or:\n",
    "<img src=\"plotter/images/com1.png\" width=\"600\" height=\"240\" align=\"center\"/>\n",
    "\n",
    "\n",
    "Hadamard gate has a big importance in quantum computing because it can create superposition state from a \"single\" state. In other word, thanks to Hadamard gate we can perform simultaneous exection aka parallism which we will discuss in the next chapter.\n",
    "\n"
   ]
  },
  {
   "cell_type": "markdown",
   "metadata": {},
   "source": [
    "### Quantum parallelism \n",
    "Now we have reached the point where we can discuss one of the main advantages of quantum computing! This property allows quantum computer run extremely faster compared to his classic counterpart.\n",
    "\n",
    "Consider such example: you have $n$ numbers $0, 01, 10 \\dots n-1$ and you want to apply function $f$ to these numbers. You will need exactly $n$ function calls:\n",
    "$$f(0), f(01), f(10) \\dots f(n-1)$$\n",
    "\n",
    "But in the quantum world you can achieve the same result via ONE function $f$ call. All you need is just to create a superposition $S$ of $0, 01, 10 \\dots n-1$ states:\n",
    "$$S = |0\\rangle + |01\\rangle + |10\\rangle + \\dots + |n-1\\rangle$$\n",
    "When you apply $f$ to $S$ once, it $f$ will be applied to all \"substates\" of S parallelly in a single(!) step:\n",
    "$$f(S) = f(|0\\rangle) + f(|01\\rangle) + f(|10\\rangle) + \\dots + f(|n-1\\rangle)$$\n",
    "\n",
    "For example you have three qubits, all are in zero state:\n",
    "$$|000\\rangle$$\n",
    "In one step you can create 8 \"numbers\":\n",
    "$$|000\\rangle \\xrightarrow{H} \\frac{1}{\\sqrt{8}}(|000\\rangle + \\space|001\\rangle + \\space |010\\rangle + \\space |011\\rangle + \\space |100\\rangle + \\space |101\\rangle + \\space |110\\rangle + \\space |111\\rangle)$$\n",
    "In a single call $f$ you can perform $f$ function over 8 numbers:\n",
    "$$s \\xrightarrow{H} \\frac{1}{\\sqrt{8}}(f(|000\\rangle) + \\space f(|001\\rangle) + \\space f(|010\\rangle) + \\space f(|011\\rangle) + \\space f(|100\\rangle) + \\space f(|101\\rangle) + \\space f(|110\\rangle) + \\space f(|111\\rangle))$$"
   ]
  },
  {
   "cell_type": "markdown",
   "metadata": {},
   "source": [
    "## Calculations"
   ]
  },
  {
   "cell_type": "markdown",
   "metadata": {},
   "source": [
    "## Problem setting\n",
    "Suppose you have a blackbox function $f(x)$. This function can be one of four types:\n",
    "1. $f(x) = 0$\n",
    "2. $f(x) = 1$\n",
    "3. $f(x) = x$\n",
    "4. $f(x) = \\overline{x}$\n",
    "\n",
    "The first two functions are constant ones because they return the same bit whatever input is. While the last two functions outputs a bit depending on input bit. Now problem is stated to determine whether this function constant or not?\n",
    "\n",
    "How many steps do you need to solve this problem in a classical way? Well, you need exactly two steps to determine the type of function. Quantum computer is able to perform the same task in a single step. How it could be possible? Let's deal with it. "
   ]
  },
  {
   "cell_type": "markdown",
   "metadata": {},
   "source": [
    "# Deutsch algorithm\n",
    "![title](deutsch.png)"
   ]
  },
  {
   "cell_type": "markdown",
   "metadata": {},
   "source": [
    "There are four steps in the Deutsch algorithm:\n",
    "1. Creating a superposion from input qubit states;\n",
    "2. Applying black-box function;\n",
    "3. Reversing superposition on the first qubit;\n",
    "4. Measuring the first qubit."
   ]
  },
  {
   "cell_type": "markdown",
   "metadata": {},
   "source": [
    "### Step 1\n",
    "We need to apply Hadamard gate to system of two qubits:\n",
    "$$ |01 \\rangle \\xrightarrow{H_2} \\space ? $$\n",
    "It means applying separately $H$ gate to the first qubit and to the second one:\n",
    "$$ |0 \\rangle \\xrightarrow{H} \\frac{1}{\\sqrt{2}} (|0\\rangle + |1\\rangle)  $$\n",
    "$$ |1 \\rangle \\xrightarrow{H} \\frac{1}{\\sqrt{2}} (|0\\rangle - |1\\rangle)  $$\n",
    "\n",
    "Then combine the resulting state:\n",
    "$$ |01 \\rangle \\xrightarrow{H} \\frac{1}{2} (|0\\rangle + |1\\rangle) (|0\\rangle - |1\\rangle)$$\n",
    "We can open the brackets:\n",
    "$$ \\frac{1}{2} |0\\rangle (|0\\rangle - |1\\rangle) + \\frac{1}{2} |1\\rangle (|0\\rangle - |1\\rangle)  $$"
   ]
  },
  {
   "cell_type": "markdown",
   "metadata": {},
   "source": [
    "### Step 2 \n",
    "#### Part 1\n",
    "We define $U_f$\n",
    "$$ U_f |xy\\rangle= |x\\rangle | y \\oplus f(x) \\rangle $$\n",
    "\n",
    "where $x$, $y$ can be zero or one, $\\oplus$ - addition by modulo two and $f(x)$ is the function which type we want to determine.\n",
    "\n",
    "$$ U_f |xy\\rangle= |x\\rangle | y \\oplus f(x) \\rangle $$\n",
    "\n",
    "This function $U_f$ has useful property when the second qubit in the state $ (|0\\rangle - |1\\rangle)$. Let's prove it:\n",
    "\n",
    "$$U_f |x \\rangle (|0\\rangle - |1\\rangle) $$\n",
    "or \n",
    " $$ U_f |x \\rangle |0\\rangle - U_f |x \\rangle |1\\rangle $$\n",
    "Apply definition of $U_f$:\n",
    "$$ |x\\rangle |0 \\oplus f(x)\\rangle - |x \\rangle |1 \\oplus f(x)\\rangle $$\n",
    "We can take out $|x\\rangle$:\n",
    "$$ |x\\rangle (|0 \\oplus f(x)\\rangle - |1 \\oplus f(x)\\rangle) $$\n",
    "$f(x)$ can output either $0$ or $1$. Remembering,  that\n",
    "\n",
    "$$ 0 \\oplus 0 = 0 $$\n",
    "$$ 0 \\oplus 1 = 1 $$\n",
    "$$ 1 \\oplus 0 = 1 $$\n",
    "$$ 1 \\oplus 1 = 0 $$\n",
    "\n",
    "\n",
    "So we can split above statement into two equations:\n",
    "$$\n",
    "\\begin{cases}\n",
    "    |x\\rangle (|0\\rangle - |1\\rangle),& \\text{if } f(x) = 0\\\\\n",
    "    (-1)|x\\rangle (|0\\rangle - |1\\rangle),              & \\text{if } f(x) = 1\n",
    "\\end{cases}\n",
    "$$\n",
    "We can combine them into one equation using a little trick:\n",
    "$$ (-1)^{f(x)}|x\\rangle (|0\\rangle - |1\\rangle) $$\n",
    "\n",
    "So we have that when $U_f$ is applied to a system of qubits like $|x\\rangle (|0\\rangle - |1\\rangle)$, $U_f$ does't change the state of the second qubit. It just multiplies the state of the first qubit by $(-1)^{f(x)}$\n",
    "\n",
    "#### Part 2\n",
    "\n",
    "So what will happen when we apply $U_f$ to the state of the system:\n",
    "$$ U_f ( \\frac{1}{2} |0\\rangle (|0\\rangle - |1\\rangle) + \\frac{1}{2} |1\\rangle (|0\\rangle - |1\\rangle)) = \\space ? $$\n",
    "\n",
    "We can open the brackets:\n",
    "$$  U_f ( \\frac{1}{2} |0\\rangle (|0\\rangle - |1\\rangle)) + U_f \\frac{1}{2}  (|1\\rangle (|0\\rangle - |1\\rangle)) $$\n",
    "You can notice that the second qubits in above terms are in $(|0\\rangle - |1\\rangle)$ state. We know how $U_f$ such states:\n",
    "$$ \\frac{1}{2} (-1)^{f(0)} |0\\rangle (|0\\rangle - |1\\rangle) + \\frac{1}{2} (-1)^{f(1)} |1\\rangle (|0\\rangle - |1\\rangle) $$\n",
    "\n",
    "We can do a little rearrangement:\n",
    "$$ \\frac{1}{2} ((-1)^{f(0)} |0\\rangle + (-1)^{f(1)} |1\\rangle) (|0\\rangle - |1\\rangle)) $$\n",
    "It means that first qubit in the state:\n",
    "$$ \\frac{1}{2} ((-1)^{f(0)} |0\\rangle + (-1)^{f(1)} |1\\rangle) $$\n",
    "and the second qubit in the state:\n",
    "$$ |0\\rangle - |1\\rangle $$"
   ]
  },
  {
   "cell_type": "markdown",
   "metadata": {},
   "source": [
    "### Step 3\n",
    "#### Part 1\n",
    "Let's forget about the second qubit and draw out attention the first one. \n",
    "\n",
    "If $f(x)=0$ then equation is written to:\n",
    "$$ \\frac{1}{2} ((-1)^{0} |0\\rangle + (-1)^{0} |1\\rangle) $$\n",
    "or\n",
    "$$ \\frac{1}{2} ( |0\\rangle + |1\\rangle) = H |0\\rangle  $$\n",
    "If $f(x)=1$ then\n",
    "$$ \\frac{1}{2} ((-1)^{1} |0\\rangle + (-1)^{1} |1\\rangle) $$\n",
    "or\n",
    "$$ \\frac{1}{2} ( -|0\\rangle - |1\\rangle) = - \\frac{1}{2} ( |0\\rangle + |1\\rangle) =  - H |0\\rangle  $$\n",
    "\n",
    "We can make a conclusion that if $f(x)$ is a constant function the first qubit will be in state:\n",
    "$$ \\pm H |0\\rangle  $$\n",
    "\n",
    "#### Part 2\n",
    "If $f(x)=x$ then equation is written to:\n",
    "$$ \\frac{1}{2} ((-1)^{0} |0\\rangle + (-1)^{1} |1\\rangle) $$\n",
    "or\n",
    "$$ \\frac{1}{2} ( |0\\rangle - |1\\rangle) = H |1\\rangle $$\n",
    "If $f(x)=\\overline{x}$ then:\n",
    "$$ \\frac{1}{2} ((-1)^{1} |0\\rangle + (-1)^{0} |1\\rangle) $$\n",
    "or\n",
    "$$ \\frac{1}{2} ( - |0\\rangle + |1\\rangle) = - \\frac{1}{2} ( |0\\rangle - |1\\rangle) = - H |1\\rangle $$\n",
    "\n",
    "Here we can another conclusion that if $f(x)$ is not a constant function the first qubit will be in state:\n",
    "$$ \\pm H |1 \\rangle  $$\n",
    "\n",
    "#### Part 3\n",
    "Remember the property of unitary gate:\n",
    "$$ H H |x\\rangle  = |x \\rangle $$\n",
    "\n",
    "So after applying $H$ to the first qubit we get:\n",
    "$$\n",
    "\\begin{cases}\n",
    "    \\pm |0\\rangle,& \\text{if } f \\text{ is constant}\\\\\n",
    "    \\pm |1\\rangle,& \\text{otherwise}\n",
    "\\end{cases}\n",
    "$$"
   ]
  },
  {
   "cell_type": "markdown",
   "metadata": {},
   "source": [
    "### Measuring\n",
    "Now only one step is left. After measurement the first qubit we can decide what types of $f$ actually is."
   ]
  },
  {
   "cell_type": "markdown",
   "metadata": {},
   "source": [
    "### Conclusion\n",
    "\n",
    "In this article we shown that quantum computer can beat classical algorithms in some (not all) problems."
   ]
  },
  {
   "cell_type": "code",
   "execution_count": 14,
   "metadata": {},
   "outputs": [],
   "source": [
    "import quant\n",
    "import numpy as np\n",
    "from functools import reduce"
   ]
  },
  {
   "cell_type": "markdown",
   "metadata": {},
   "source": [
    "Given a function $ U_f |xy\\rangle= |x\\rangle | y \\oplus f(x) \\rangle $\n",
    "\n",
    "\n",
    "Goal is to determine the type of $f$."
   ]
  },
  {
   "cell_type": "markdown",
   "metadata": {},
   "source": [
    "## Step 1\n",
    "\n",
    "Given two inputs: \n",
    "- $x_0$ first input in a state $|0\\rangle$\n",
    "- $x_1$ second input in a state $|1\\rangle$\n"
   ]
  },
  {
   "cell_type": "code",
   "execution_count": 8,
   "metadata": {},
   "outputs": [],
   "source": [
    "x0 = np.array([[1],\n",
    "               [0]])\n",
    "x1 = np.array([[0], \n",
    "            [1]])"
   ]
  },
  {
   "cell_type": "markdown",
   "metadata": {},
   "source": [
    "The overall state is $|01\\rangle$."
   ]
  },
  {
   "cell_type": "code",
   "execution_count": 9,
   "metadata": {},
   "outputs": [],
   "source": [
    "x01 = np.kron(x0, x1)"
   ]
  },
  {
   "cell_type": "markdown",
   "metadata": {},
   "source": [
    "Create two-qubit Hadamard operator and apply it to $|01\\rangle$."
   ]
  },
  {
   "cell_type": "code",
   "execution_count": 10,
   "metadata": {},
   "outputs": [],
   "source": [
    "H2 = hadamard_n(2)\n",
    "x01_H2 = np.dot(H2, x01)"
   ]
  },
  {
   "cell_type": "code",
   "execution_count": 11,
   "metadata": {},
   "outputs": [
    {
     "data": {
      "text/plain": [
       "array([[ 0.5],\n",
       "       [-0.5],\n",
       "       [ 0.5],\n",
       "       [-0.5]])"
      ]
     },
     "execution_count": 11,
     "metadata": {},
     "output_type": "execute_result"
    }
   ],
   "source": [
    "x01_H2"
   ]
  },
  {
   "cell_type": "markdown",
   "metadata": {},
   "source": [
    "## Step 2\n",
    "Now we need to express function $f: \\{0, 1\\} \\rightarrow \\{0, 1\\}$ as a valid unitary matrix.\n",
    "\n",
    "Apply $U_f$ to qubits."
   ]
  },
  {
   "cell_type": "code",
   "execution_count": 7,
   "metadata": {},
   "outputs": [],
   "source": [
    "f1 = lambda x: 0\n",
    "f2 = lambda x: 1\n",
    "f3 = lambda x: x\n",
    "f4 = lambda x: 1 - x"
   ]
  },
  {
   "cell_type": "code",
   "execution_count": 16,
   "metadata": {},
   "outputs": [],
   "source": [
    "def create_operator_matrix_deutsch(qubit_number, func):\n",
    "    # qubit number only two\n",
    "    states = 2 ** qubit_number\n",
    "    res = np.empty([states, states])\n",
    "    \n",
    "    for i in range(states):\n",
    "        state = format(i, '0' + str(qubit_number) + 'b')\n",
    "        x0 = state[0]\n",
    "        x1 = str(int(state[1]) ^ func(int(state[0])))\n",
    "        column = quant.string_to_state(x0+x1)\n",
    "        res[:,i] = column[:, 0]\n",
    "    \n",
    "    return res"
   ]
  },
  {
   "cell_type": "code",
   "execution_count": 17,
   "metadata": {},
   "outputs": [],
   "source": [
    "U_f = create_operator_matrix_deutsch(2, f1)"
   ]
  },
  {
   "cell_type": "code",
   "execution_count": 18,
   "metadata": {},
   "outputs": [],
   "source": [
    "X_f = np.dot(U_f, x01_H2)"
   ]
  },
  {
   "cell_type": "markdown",
   "metadata": {},
   "source": [
    "## Step 3\n",
    "\n",
    "Apply Hadamard gate to the first qubit."
   ]
  },
  {
   "cell_type": "code",
   "execution_count": 19,
   "metadata": {},
   "outputs": [],
   "source": [
    "HI = np.kron(hadamard_n(1), np.identity(2))\n",
    "final_state = np.dot(HI, X_f)"
   ]
  },
  {
   "cell_type": "code",
   "execution_count": 20,
   "metadata": {},
   "outputs": [
    {
     "data": {
      "text/plain": [
       "array([[ 0.70710678],\n",
       "       [-0.70710678],\n",
       "       [ 0.        ],\n",
       "       [ 0.        ]])"
      ]
     },
     "execution_count": 20,
     "metadata": {},
     "output_type": "execute_result"
    }
   ],
   "source": [
    "final_state"
   ]
  },
  {
   "cell_type": "markdown",
   "metadata": {},
   "source": [
    "## Measuring the final state \n",
    "The probability of qubit $i$ being in a state 0 is given by \n",
    "$$Tr [| \\psi \\rangle \\langle \\psi | P^{i}_0 ]$$"
   ]
  },
  {
   "cell_type": "code",
   "execution_count": 22,
   "metadata": {},
   "outputs": [
    {
     "name": "stdout",
     "output_type": "stream",
     "text": [
      "0.9999999999999996\n"
     ]
    }
   ],
   "source": [
    "rho = np.dot(final_state, final_state.T)\n",
    "P0 = np.dot(quant.ZERO, quant.ZERO.T)\n",
    "P00 = np.kron(P0, np.eye(2))\n",
    "\n",
    "prob = np.trace(np.dot(rho, P00))\n",
    "print(prob)"
   ]
  }
 ],
 "metadata": {
  "kernelspec": {
   "display_name": "Python 3",
   "language": "python",
   "name": "python3"
  },
  "language_info": {
   "codemirror_mode": {
    "name": "ipython",
    "version": 3
   },
   "file_extension": ".py",
   "mimetype": "text/x-python",
   "name": "python",
   "nbconvert_exporter": "python",
   "pygments_lexer": "ipython3",
   "version": "3.7.2"
  }
 },
 "nbformat": 4,
 "nbformat_minor": 2
}
