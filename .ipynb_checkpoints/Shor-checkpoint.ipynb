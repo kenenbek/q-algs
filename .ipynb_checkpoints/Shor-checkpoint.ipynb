{
 "cells": [
  {
   "cell_type": "code",
   "execution_count": 1,
   "metadata": {},
   "outputs": [],
   "source": [
    "import numpy as np"
   ]
  },
  {
   "cell_type": "code",
   "execution_count": null,
   "metadata": {},
   "outputs": [],
   "source": [
    "def create_qft_matrix(n):\n",
    "    \"\"\"\n",
    "    Generates Quantum Fourier Transformation matrix \n",
    "    \n",
    "    Parameters\n",
    "    ----------\n",
    "    n: int\n",
    "        Number of qubits to be transformed\n",
    "    \n",
    "    Return\n",
    "    ------\n",
    "    \n",
    "    qft: array_like\n",
    "        QFT matrix\n",
    "    \"\"\"\n",
    "    N = 2 ** n\n",
    "    res = np.empty([states, states])\n",
    "    \n",
    "    w = croot(N, 1)\n",
    "    \n",
    "    for num in range(N):\n",
    "        state = format(num, '0' + str(qubit_number) + 'b')\n",
    "        \n",
    "        \n",
    "        res[:, num] = column[:, 0]\n",
    "        \n",
    "    \n",
    "    "
   ]
  },
  {
   "cell_type": "code",
   "execution_count": null,
   "metadata": {},
   "outputs": [],
   "source": [
    "def transfor_function_to_matrix(qubit_number, func):\n",
    "    states = 2 ** qubit_number\n",
    "    res = np.empty([states, states])\n",
    "    \n",
    "    for num in range(states):\n",
    "        state = format(num, '0' + str(qubit_number) + 'b')\n",
    "        X = state[:-1]\n",
    "        y = str(int(state[-1]) ^ func(int(X, 2)))\n",
    "        column = string_to_state(X+y)\n",
    "        \n",
    "        res[:, num] = column[:, 0]\n",
    "    \n",
    "    return res"
   ]
  },
  {
   "cell_type": "code",
   "execution_count": 13,
   "metadata": {},
   "outputs": [],
   "source": [
    "def croot(n, k):\n",
    "    if n<=0:\n",
    "        return None\n",
    "    return np.exp((2 * np.pi * 1j * k) / n)\n",
    "    "
   ]
  }
 ],
 "metadata": {
  "kernelspec": {
   "display_name": "Python 3",
   "language": "python",
   "name": "python3"
  },
  "language_info": {
   "codemirror_mode": {
    "name": "ipython",
    "version": 3
   },
   "file_extension": ".py",
   "mimetype": "text/x-python",
   "name": "python",
   "nbconvert_exporter": "python",
   "pygments_lexer": "ipython3",
   "version": "3.7.2"
  }
 },
 "nbformat": 4,
 "nbformat_minor": 2
}
